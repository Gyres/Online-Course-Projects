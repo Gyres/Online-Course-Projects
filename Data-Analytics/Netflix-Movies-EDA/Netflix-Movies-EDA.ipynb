{
 "cells": [
  {
   "cell_type": "markdown",
   "id": "5962b2cd-17bb-4ec9-b2d5-68537ca26860",
   "metadata": {
    "panel-layout": {
     "height": 566.71875,
     "visible": true,
     "width": 100
    }
   },
   "source": [
    "# Investigating Netflix Movies Project\n",
    "\n",
    "**Netflix**! What started in 1997 as a DVD rental service has since exploded into one of the largest entertainment and media companies.\n",
    "\n",
    "Given the large number of movies and series available on the platform, it is a perfect opportunity to flex your exploratory data analysis skills and dive into the entertainment industry.\n",
    "\n",
    "You work for a production company that specializes in nostalgic styles. You want to do some research on movies released in the 1990's. You'll delve into Netflix data and perform exploratory data analysis to better understand this awesome movie decade!\n",
    "\n",
    "You have been supplied with the dataset `netflix_data.csv`, along with the following table detailing the column names and descriptions. Feel free to experiment further after submitting!\n",
    "\n",
    "### The data\n",
    "#### **netflix_data.csv**\n",
    "| Column | Description |\n",
    "|--------|-------------|\n",
    "| `show_id` | The ID of the show |\n",
    "| `type` | Type of show |\n",
    "| `title` | Title of the show |\n",
    "| `director` | Director of the show |\n",
    "| `cast` | Cast of the show |\n",
    "| `country` | Country of origin |\n",
    "| `date_added` | Date added to Netflix |\n",
    "| `release_year` | Year of Netflix release |\n",
    "| `duration` | Duration of the show in minutes |\n",
    "| `description` | Description of the show |\n",
    "| `genre` | Show genre |"
   ]
  },
  {
   "cell_type": "markdown",
   "id": "29a14626-9740-4839-89a9-560fca0e60b5",
   "metadata": {},
   "source": [
    "**Project Instructions**\n",
    "\n",
    "Perform exploratory data analysis on the `netflix_data.csv` data to understand more about movies from the 1990s decade.\n",
    "\n",
    "- What was the most frequent **movie** duration in the 1990s? Save an approximate answer as an integer called `duration` (use 1990 as the decade's start year).\n",
    "\n",
    "- A movie is considered short if it is less than 90 minutes. Count the number of **short action movies** released in the 1990s and save this integer as `short_movie_count`."
   ]
  },
  {
   "cell_type": "code",
   "execution_count": 2,
   "id": "320a3abc-8a36-4b2b-baaf-473325363a4d",
   "metadata": {
    "executionCancelledAt": null,
    "executionTime": 53,
    "lastExecutedAt": 1732558488490,
    "lastExecutedByKernel": "68205d12-e857-40de-81c9-bfa24744c23e",
    "lastScheduledRunId": null,
    "lastSuccessfullyExecutedCode": "# Importing pandas and matplotlib\nimport pandas as pd\nimport matplotlib.pyplot as plt\n\n# Read in the Netflix CSV as a DataFrame\nnetflix_df = pd.read_csv(\"netflix_data.csv\")"
   },
   "outputs": [],
   "source": [
    "# Importing pandas and matplotlib\n",
    "import pandas as pd\n",
    "import matplotlib.pyplot as plt\n",
    "\n",
    "# Read in the Netflix CSV as a DataFrame\n",
    "netflix_df = pd.read_csv(\"netflix_data.csv\")"
   ]
  },
  {
   "cell_type": "code",
   "execution_count": 3,
   "id": "72658473-114f-49eb-bd4e-cc03c710834a",
   "metadata": {
    "collapsed": false,
    "executionCancelledAt": null,
    "executionTime": 52,
    "jupyter": {
     "outputs_hidden": false,
     "source_hidden": false
    },
    "lastExecutedAt": 1732558488543,
    "lastExecutedByKernel": "68205d12-e857-40de-81c9-bfa24744c23e",
    "lastScheduledRunId": null,
    "lastSuccessfullyExecutedCode": "# Subset the DataFrame for type \"Movie\"\nnetflix_subset = netflix_df[netflix_df[\"type\"] == \"Movie\"]"
   },
   "outputs": [],
   "source": [
    "# Subset the DataFrame for type \"Movie\"\n",
    "netflix_subset = netflix_df[netflix_df[\"type\"] == \"Movie\"]"
   ]
  },
  {
   "cell_type": "code",
   "execution_count": 4,
   "id": "477cb9d3-705a-4b73-8621-d86d550c2899",
   "metadata": {
    "executionCancelledAt": null,
    "executionTime": 51,
    "lastExecutedAt": 1732558488594,
    "lastExecutedByKernel": "68205d12-e857-40de-81c9-bfa24744c23e",
    "lastScheduledRunId": null,
    "lastSuccessfullyExecutedCode": "# Filter the data for movies released in the 1990s\nmovies_1990s = netflix_subset[(netflix_subset[\"release_year\"] >= 1990) & (netflix_subset[\"release_year\"] <= 1999)]"
   },
   "outputs": [],
   "source": [
    "# Filter the data for movies released in the 1990s\n",
    "movies_1990s = netflix_subset[(netflix_subset[\"release_year\"] >= 1990) & (netflix_subset[\"release_year\"] <= 1999)]"
   ]
  },
  {
   "cell_type": "code",
   "execution_count": 5,
   "id": "6e72ff3d-3453-414c-a15a-902a477cf0ea",
   "metadata": {
    "executionCancelledAt": null,
    "executionTime": 230,
    "lastExecutedAt": 1732558488824,
    "lastExecutedByKernel": "68205d12-e857-40de-81c9-bfa24744c23e",
    "lastScheduledRunId": null,
    "lastSuccessfullyExecutedCode": "# Visualise the distribution of 1990s movies' duration\nplt.hist(movies_1990s[\"duration\"])\nplt.title(\"Distribution of 1990s Movie durations\")\nplt.xlabel(\"Duration (minutes)\")\nplt.ylabel(\"Number of Movies\")\nplt.show()",
    "panel-layout": {
     "height": 701,
     "visible": true,
     "width": 100
    }
   },
   "outputs": [
    {
     "data": {
      "image/png": "[encoded data removed]",
      "text/plain": [
       "<Figure size 640x480 with 1 Axes>"
      ]
     },
     "metadata": {},
     "output_type": "display_data"
    }
   ],
   "source": [
    "# Visualise the distribution of 1990s movies' duration\n",
    "plt.hist(movies_1990s[\"duration\"])\n",
    "plt.title(\"Distribution of 1990s Movie durations\")\n",
    "plt.xlabel(\"Duration (minutes)\")\n",
    "plt.ylabel(\"Number of Movies\")\n",
    "plt.show()"
   ]
  },
  {
   "cell_type": "code",
   "execution_count": 6,
   "id": "323ed72b-df50-4101-863f-2f4b4b258b7b",
   "metadata": {
    "executionCancelledAt": null,
    "executionTime": 54,
    "lastExecutedAt": 1732558488878,
    "lastExecutedByKernel": "68205d12-e857-40de-81c9-bfa24744c23e",
    "lastScheduledRunId": null,
    "lastSuccessfullyExecutedCode": "# Filter 1990s Movies to keep Action movies\naction_movies_1990s = movies_1990s[movies_1990s[\"genre\"] == \"Action\"]"
   },
   "outputs": [],
   "source": [
    "# Filter 1990s Movies to keep Action movies\n",
    "action_movies_1990s = movies_1990s[movies_1990s[\"genre\"] == \"Action\"]"
   ]
  },
  {
   "cell_type": "code",
   "execution_count": 7,
   "id": "541e71af-9b78-443b-a47b-0615f34c8f20",
   "metadata": {
    "executionCancelledAt": null,
    "executionTime": 52,
    "lastExecutedAt": 1732558488930,
    "lastExecutedByKernel": "68205d12-e857-40de-81c9-bfa24744c23e",
    "lastScheduledRunId": null,
    "lastSuccessfullyExecutedCode": "# Count how many short action 1990s movies using for loop and a counter\nduration = 100\nshort_movie_count = 0"
   },
   "outputs": [],
   "source": [
    "# Count how many short action 1990s movies using for loop and a counter\n",
    "duration = 100\n",
    "short_movie_count = 0"
   ]
  },
  {
   "cell_type": "code",
   "execution_count": 8,
   "id": "20d038a0-5bb5-470e-8416-c37bf2083aae",
   "metadata": {
    "executionCancelledAt": null,
    "executionTime": 52,
    "lastExecutedAt": 1732558488982,
    "lastExecutedByKernel": "68205d12-e857-40de-81c9-bfa24744c23e",
    "lastScheduledRunId": null,
    "lastSuccessfullyExecutedCode": "# Iterate over the DataFrame action_movies_1990s, and check if the duration is less than 90, if it is, add 1 to the counter, else , the counter should remain the same\nfor label, row in action_movies_1990s.iterrows() :\n    if row['duration'] < 90 :\n        short_movie_count = short_movie_count + 1\n    else :\n        short_movie_count = short_movie_count\n        \nprint(short_movie_count)",
    "panel-layout": {
     "height": 701,
     "visible": true,
     "width": 100
    }
   },
   "outputs": [
    {
     "name": "stdout",
     "output_type": "stream",
     "text": [
      "7\n"
     ]
    }
   ],
   "source": [
    "# Iterate over the DataFrame action_movies_1990s, and check if the duration is less than 90, if it is, add 1 to the counter, else , the counter should remain the same\n",
    "for label, row in action_movies_1990s.iterrows() :\n",
    "    if row['duration'] < 90 :\n",
    "        short_movie_count = short_movie_count + 1\n",
    "    else :\n",
    "        short_movie_count = short_movie_count\n",
    "        \n",
    "print(short_movie_count)"
   ]
  },
  {
   "cell_type": "code",
   "execution_count": 9,
   "id": "eb26e60e-4d7b-4417-addc-68df2d9e8b71",
   "metadata": {},
   "outputs": [
    {
     "data": {
      "text/plain": [
       "7"
      ]
     },
     "execution_count": 9,
     "metadata": {},
     "output_type": "execute_result"
    }
   ],
   "source": [
    "# A quicker way of counting values in a column is to use .sum() on the desired column\n",
    "(action_movies_1990s[\"duration\"] < 90).sum()"
   ]
  }
 ],
 "metadata": {
  "colab": {
   "name": "Welcome to DataCamp Workspaces.ipynb",
   "provenance": []
  },
  "editor": "DataLab",
  "kernelspec": {
   "display_name": "Python 3 (ipykernel)",
   "language": "python",
   "name": "python3"
  },
  "language_info": {
   "codemirror_mode": {
    "name": "ipython",
    "version": 3
   },
   "file_extension": ".py",
   "mimetype": "text/x-python",
   "name": "python",
   "nbconvert_exporter": "python",
   "pygments_lexer": "ipython3",
   "version": "3.12.7"
  },
  "panel-cell-order": [
   "937acf3c-c077-4ca6-8d90-8f6dd4d13c54",
   "5962b2cd-17bb-4ec9-b2d5-68537ca26860",
   "6e72ff3d-3453-414c-a15a-902a477cf0ea",
   "20d038a0-5bb5-470e-8416-c37bf2083aae"
  ]
 },
 "nbformat": 4,
 "nbformat_minor": 5
}
